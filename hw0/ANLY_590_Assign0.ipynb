{
 "cells": [
  {
   "cell_type": "markdown",
   "metadata": {},
   "source": [
    "# ANLY 590 Assignment 0\n",
    "## Cheng Zhong\n",
    "### Sep 18th 2019"
   ]
  },
  {
   "cell_type": "markdown",
   "metadata": {},
   "source": [
    "# 1. Regularization"
   ]
  },
  {
   "cell_type": "markdown",
   "metadata": {},
   "source": [
    "## 1.1 Use LASSO regression to predict Salary from the other numeric predictors (you should omit the categorical predictors). "
   ]
  },
  {
   "cell_type": "code",
   "execution_count": 227,
   "metadata": {},
   "outputs": [],
   "source": [
    "### import all the packages\n",
    "%matplotlib inline\n",
    "import numpy as np\n",
    "import pandas as pd\n",
    "import matplotlib.pyplot as plt\n",
    "from sklearn.preprocessing import scale\n",
    "from sklearn import cross_validation\n",
    "from sklearn.linear_model import Ridge, RidgeCV, Lasso, LassoCV\n",
    "from sklearn.metrics import mean_squared_error"
   ]
  },
  {
   "cell_type": "code",
   "execution_count": 217,
   "metadata": {},
   "outputs": [
    {
     "data": {
      "text/html": [
       "<div>\n",
       "<style scoped>\n",
       "    .dataframe tbody tr th:only-of-type {\n",
       "        vertical-align: middle;\n",
       "    }\n",
       "\n",
       "    .dataframe tbody tr th {\n",
       "        vertical-align: top;\n",
       "    }\n",
       "\n",
       "    .dataframe thead th {\n",
       "        text-align: right;\n",
       "    }\n",
       "</style>\n",
       "<table border=\"1\" class=\"dataframe\">\n",
       "  <thead>\n",
       "    <tr style=\"text-align: right;\">\n",
       "      <th></th>\n",
       "      <th>Unnamed: 0</th>\n",
       "      <th>AtBat</th>\n",
       "      <th>Hits</th>\n",
       "      <th>HmRun</th>\n",
       "      <th>Runs</th>\n",
       "      <th>RBI</th>\n",
       "      <th>Walks</th>\n",
       "      <th>Years</th>\n",
       "      <th>CAtBat</th>\n",
       "      <th>CHits</th>\n",
       "      <th>...</th>\n",
       "      <th>CRuns</th>\n",
       "      <th>CRBI</th>\n",
       "      <th>CWalks</th>\n",
       "      <th>League</th>\n",
       "      <th>Division</th>\n",
       "      <th>PutOuts</th>\n",
       "      <th>Assists</th>\n",
       "      <th>Errors</th>\n",
       "      <th>Salary</th>\n",
       "      <th>NewLeague</th>\n",
       "    </tr>\n",
       "  </thead>\n",
       "  <tbody>\n",
       "    <tr>\n",
       "      <th>1</th>\n",
       "      <td>-Alan Ashby</td>\n",
       "      <td>315</td>\n",
       "      <td>81</td>\n",
       "      <td>7</td>\n",
       "      <td>24</td>\n",
       "      <td>38</td>\n",
       "      <td>39</td>\n",
       "      <td>14</td>\n",
       "      <td>3449</td>\n",
       "      <td>835</td>\n",
       "      <td>...</td>\n",
       "      <td>321</td>\n",
       "      <td>414</td>\n",
       "      <td>375</td>\n",
       "      <td>N</td>\n",
       "      <td>W</td>\n",
       "      <td>632</td>\n",
       "      <td>43</td>\n",
       "      <td>10</td>\n",
       "      <td>475.0</td>\n",
       "      <td>N</td>\n",
       "    </tr>\n",
       "    <tr>\n",
       "      <th>2</th>\n",
       "      <td>-Alvin Davis</td>\n",
       "      <td>479</td>\n",
       "      <td>130</td>\n",
       "      <td>18</td>\n",
       "      <td>66</td>\n",
       "      <td>72</td>\n",
       "      <td>76</td>\n",
       "      <td>3</td>\n",
       "      <td>1624</td>\n",
       "      <td>457</td>\n",
       "      <td>...</td>\n",
       "      <td>224</td>\n",
       "      <td>266</td>\n",
       "      <td>263</td>\n",
       "      <td>A</td>\n",
       "      <td>W</td>\n",
       "      <td>880</td>\n",
       "      <td>82</td>\n",
       "      <td>14</td>\n",
       "      <td>480.0</td>\n",
       "      <td>A</td>\n",
       "    </tr>\n",
       "    <tr>\n",
       "      <th>3</th>\n",
       "      <td>-Andre Dawson</td>\n",
       "      <td>496</td>\n",
       "      <td>141</td>\n",
       "      <td>20</td>\n",
       "      <td>65</td>\n",
       "      <td>78</td>\n",
       "      <td>37</td>\n",
       "      <td>11</td>\n",
       "      <td>5628</td>\n",
       "      <td>1575</td>\n",
       "      <td>...</td>\n",
       "      <td>828</td>\n",
       "      <td>838</td>\n",
       "      <td>354</td>\n",
       "      <td>N</td>\n",
       "      <td>E</td>\n",
       "      <td>200</td>\n",
       "      <td>11</td>\n",
       "      <td>3</td>\n",
       "      <td>500.0</td>\n",
       "      <td>N</td>\n",
       "    </tr>\n",
       "    <tr>\n",
       "      <th>4</th>\n",
       "      <td>-Andres Galarraga</td>\n",
       "      <td>321</td>\n",
       "      <td>87</td>\n",
       "      <td>10</td>\n",
       "      <td>39</td>\n",
       "      <td>42</td>\n",
       "      <td>30</td>\n",
       "      <td>2</td>\n",
       "      <td>396</td>\n",
       "      <td>101</td>\n",
       "      <td>...</td>\n",
       "      <td>48</td>\n",
       "      <td>46</td>\n",
       "      <td>33</td>\n",
       "      <td>N</td>\n",
       "      <td>E</td>\n",
       "      <td>805</td>\n",
       "      <td>40</td>\n",
       "      <td>4</td>\n",
       "      <td>91.5</td>\n",
       "      <td>N</td>\n",
       "    </tr>\n",
       "    <tr>\n",
       "      <th>5</th>\n",
       "      <td>-Alfredo Griffin</td>\n",
       "      <td>594</td>\n",
       "      <td>169</td>\n",
       "      <td>4</td>\n",
       "      <td>74</td>\n",
       "      <td>51</td>\n",
       "      <td>35</td>\n",
       "      <td>11</td>\n",
       "      <td>4408</td>\n",
       "      <td>1133</td>\n",
       "      <td>...</td>\n",
       "      <td>501</td>\n",
       "      <td>336</td>\n",
       "      <td>194</td>\n",
       "      <td>A</td>\n",
       "      <td>W</td>\n",
       "      <td>282</td>\n",
       "      <td>421</td>\n",
       "      <td>25</td>\n",
       "      <td>750.0</td>\n",
       "      <td>A</td>\n",
       "    </tr>\n",
       "  </tbody>\n",
       "</table>\n",
       "<p>5 rows × 21 columns</p>\n",
       "</div>"
      ],
      "text/plain": [
       "          Unnamed: 0  AtBat  Hits  HmRun  Runs  RBI  Walks  Years  CAtBat  \\\n",
       "1        -Alan Ashby    315    81      7    24   38     39     14    3449   \n",
       "2       -Alvin Davis    479   130     18    66   72     76      3    1624   \n",
       "3      -Andre Dawson    496   141     20    65   78     37     11    5628   \n",
       "4  -Andres Galarraga    321    87     10    39   42     30      2     396   \n",
       "5   -Alfredo Griffin    594   169      4    74   51     35     11    4408   \n",
       "\n",
       "   CHits    ...      CRuns  CRBI  CWalks  League Division PutOuts  Assists  \\\n",
       "1    835    ...        321   414     375       N        W     632       43   \n",
       "2    457    ...        224   266     263       A        W     880       82   \n",
       "3   1575    ...        828   838     354       N        E     200       11   \n",
       "4    101    ...         48    46      33       N        E     805       40   \n",
       "5   1133    ...        501   336     194       A        W     282      421   \n",
       "\n",
       "   Errors  Salary  NewLeague  \n",
       "1      10   475.0          N  \n",
       "2      14   480.0          A  \n",
       "3       3   500.0          N  \n",
       "4       4    91.5          N  \n",
       "5      25   750.0          A  \n",
       "\n",
       "[5 rows x 21 columns]"
      ]
     },
     "execution_count": 217,
     "metadata": {},
     "output_type": "execute_result"
    }
   ],
   "source": [
    "# read data from csv and drop missing values\n",
    "hitter = pd.read_csv(\"~/Desktop/Course Documents/ANLY 590/hw0/Hitters.csv\").dropna()\n",
    "hitter.head()"
   ]
  },
  {
   "cell_type": "code",
   "execution_count": 218,
   "metadata": {},
   "outputs": [
    {
     "name": "stdout",
     "output_type": "stream",
     "text": [
      "<class 'pandas.core.frame.DataFrame'>\n",
      "Int64Index: 263 entries, 1 to 321\n",
      "Data columns (total 21 columns):\n",
      "Unnamed: 0    263 non-null object\n",
      "AtBat         263 non-null int64\n",
      "Hits          263 non-null int64\n",
      "HmRun         263 non-null int64\n",
      "Runs          263 non-null int64\n",
      "RBI           263 non-null int64\n",
      "Walks         263 non-null int64\n",
      "Years         263 non-null int64\n",
      "CAtBat        263 non-null int64\n",
      "CHits         263 non-null int64\n",
      "CHmRun        263 non-null int64\n",
      "CRuns         263 non-null int64\n",
      "CRBI          263 non-null int64\n",
      "CWalks        263 non-null int64\n",
      "League        263 non-null object\n",
      "Division      263 non-null object\n",
      "PutOuts       263 non-null int64\n",
      "Assists       263 non-null int64\n",
      "Errors        263 non-null int64\n",
      "Salary        263 non-null float64\n",
      "NewLeague     263 non-null object\n",
      "dtypes: float64(1), int64(16), object(4)\n",
      "memory usage: 45.2+ KB\n"
     ]
    }
   ],
   "source": [
    "# Check all the data type\n",
    "hitter.info()"
   ]
  },
  {
   "cell_type": "code",
   "execution_count": 219,
   "metadata": {},
   "outputs": [
    {
     "name": "stdout",
     "output_type": "stream",
     "text": [
      "<class 'pandas.core.frame.DataFrame'>\n",
      "Int64Index: 263 entries, 1 to 321\n",
      "Data columns (total 17 columns):\n",
      "AtBat      263 non-null float64\n",
      "Hits       263 non-null float64\n",
      "HmRun      263 non-null float64\n",
      "Runs       263 non-null float64\n",
      "RBI        263 non-null float64\n",
      "Walks      263 non-null float64\n",
      "Years      263 non-null float64\n",
      "CAtBat     263 non-null float64\n",
      "CHits      263 non-null float64\n",
      "CHmRun     263 non-null float64\n",
      "CRuns      263 non-null float64\n",
      "CRBI       263 non-null float64\n",
      "CWalks     263 non-null float64\n",
      "PutOuts    263 non-null float64\n",
      "Assists    263 non-null float64\n",
      "Errors     263 non-null float64\n",
      "Salary     263 non-null float64\n",
      "dtypes: float64(17)\n",
      "memory usage: 37.0 KB\n"
     ]
    }
   ],
   "source": [
    "# remove the categorical values\n",
    "hitter_numeric = hitter._get_numeric_data().astype(float)\n",
    "hitter_numeric.info()"
   ]
  },
  {
   "cell_type": "code",
   "execution_count": 220,
   "metadata": {},
   "outputs": [
    {
     "data": {
      "text/html": [
       "<div>\n",
       "<style scoped>\n",
       "    .dataframe tbody tr th:only-of-type {\n",
       "        vertical-align: middle;\n",
       "    }\n",
       "\n",
       "    .dataframe tbody tr th {\n",
       "        vertical-align: top;\n",
       "    }\n",
       "\n",
       "    .dataframe thead th {\n",
       "        text-align: right;\n",
       "    }\n",
       "</style>\n",
       "<table border=\"1\" class=\"dataframe\">\n",
       "  <thead>\n",
       "    <tr style=\"text-align: right;\">\n",
       "      <th></th>\n",
       "      <th>AtBat</th>\n",
       "      <th>Hits</th>\n",
       "      <th>HmRun</th>\n",
       "      <th>Runs</th>\n",
       "      <th>RBI</th>\n",
       "      <th>Walks</th>\n",
       "      <th>Years</th>\n",
       "      <th>CAtBat</th>\n",
       "      <th>CHits</th>\n",
       "      <th>CHmRun</th>\n",
       "      <th>CRuns</th>\n",
       "      <th>CRBI</th>\n",
       "      <th>CWalks</th>\n",
       "      <th>PutOuts</th>\n",
       "      <th>Assists</th>\n",
       "      <th>Errors</th>\n",
       "      <th>Salary</th>\n",
       "    </tr>\n",
       "  </thead>\n",
       "  <tbody>\n",
       "    <tr>\n",
       "      <th>1</th>\n",
       "      <td>315.0</td>\n",
       "      <td>81.0</td>\n",
       "      <td>7.0</td>\n",
       "      <td>24.0</td>\n",
       "      <td>38.0</td>\n",
       "      <td>39.0</td>\n",
       "      <td>14.0</td>\n",
       "      <td>3449.0</td>\n",
       "      <td>835.0</td>\n",
       "      <td>69.0</td>\n",
       "      <td>321.0</td>\n",
       "      <td>414.0</td>\n",
       "      <td>375.0</td>\n",
       "      <td>632.0</td>\n",
       "      <td>43.0</td>\n",
       "      <td>10.0</td>\n",
       "      <td>475.0</td>\n",
       "    </tr>\n",
       "    <tr>\n",
       "      <th>2</th>\n",
       "      <td>479.0</td>\n",
       "      <td>130.0</td>\n",
       "      <td>18.0</td>\n",
       "      <td>66.0</td>\n",
       "      <td>72.0</td>\n",
       "      <td>76.0</td>\n",
       "      <td>3.0</td>\n",
       "      <td>1624.0</td>\n",
       "      <td>457.0</td>\n",
       "      <td>63.0</td>\n",
       "      <td>224.0</td>\n",
       "      <td>266.0</td>\n",
       "      <td>263.0</td>\n",
       "      <td>880.0</td>\n",
       "      <td>82.0</td>\n",
       "      <td>14.0</td>\n",
       "      <td>480.0</td>\n",
       "    </tr>\n",
       "    <tr>\n",
       "      <th>3</th>\n",
       "      <td>496.0</td>\n",
       "      <td>141.0</td>\n",
       "      <td>20.0</td>\n",
       "      <td>65.0</td>\n",
       "      <td>78.0</td>\n",
       "      <td>37.0</td>\n",
       "      <td>11.0</td>\n",
       "      <td>5628.0</td>\n",
       "      <td>1575.0</td>\n",
       "      <td>225.0</td>\n",
       "      <td>828.0</td>\n",
       "      <td>838.0</td>\n",
       "      <td>354.0</td>\n",
       "      <td>200.0</td>\n",
       "      <td>11.0</td>\n",
       "      <td>3.0</td>\n",
       "      <td>500.0</td>\n",
       "    </tr>\n",
       "    <tr>\n",
       "      <th>4</th>\n",
       "      <td>321.0</td>\n",
       "      <td>87.0</td>\n",
       "      <td>10.0</td>\n",
       "      <td>39.0</td>\n",
       "      <td>42.0</td>\n",
       "      <td>30.0</td>\n",
       "      <td>2.0</td>\n",
       "      <td>396.0</td>\n",
       "      <td>101.0</td>\n",
       "      <td>12.0</td>\n",
       "      <td>48.0</td>\n",
       "      <td>46.0</td>\n",
       "      <td>33.0</td>\n",
       "      <td>805.0</td>\n",
       "      <td>40.0</td>\n",
       "      <td>4.0</td>\n",
       "      <td>91.5</td>\n",
       "    </tr>\n",
       "    <tr>\n",
       "      <th>5</th>\n",
       "      <td>594.0</td>\n",
       "      <td>169.0</td>\n",
       "      <td>4.0</td>\n",
       "      <td>74.0</td>\n",
       "      <td>51.0</td>\n",
       "      <td>35.0</td>\n",
       "      <td>11.0</td>\n",
       "      <td>4408.0</td>\n",
       "      <td>1133.0</td>\n",
       "      <td>19.0</td>\n",
       "      <td>501.0</td>\n",
       "      <td>336.0</td>\n",
       "      <td>194.0</td>\n",
       "      <td>282.0</td>\n",
       "      <td>421.0</td>\n",
       "      <td>25.0</td>\n",
       "      <td>750.0</td>\n",
       "    </tr>\n",
       "  </tbody>\n",
       "</table>\n",
       "</div>"
      ],
      "text/plain": [
       "   AtBat   Hits  HmRun  Runs   RBI  Walks  Years  CAtBat   CHits  CHmRun  \\\n",
       "1  315.0   81.0    7.0  24.0  38.0   39.0   14.0  3449.0   835.0    69.0   \n",
       "2  479.0  130.0   18.0  66.0  72.0   76.0    3.0  1624.0   457.0    63.0   \n",
       "3  496.0  141.0   20.0  65.0  78.0   37.0   11.0  5628.0  1575.0   225.0   \n",
       "4  321.0   87.0   10.0  39.0  42.0   30.0    2.0   396.0   101.0    12.0   \n",
       "5  594.0  169.0    4.0  74.0  51.0   35.0   11.0  4408.0  1133.0    19.0   \n",
       "\n",
       "   CRuns   CRBI  CWalks  PutOuts  Assists  Errors  Salary  \n",
       "1  321.0  414.0   375.0    632.0     43.0    10.0   475.0  \n",
       "2  224.0  266.0   263.0    880.0     82.0    14.0   480.0  \n",
       "3  828.0  838.0   354.0    200.0     11.0     3.0   500.0  \n",
       "4   48.0   46.0    33.0    805.0     40.0     4.0    91.5  \n",
       "5  501.0  336.0   194.0    282.0    421.0    25.0   750.0  "
      ]
     },
     "execution_count": 220,
     "metadata": {},
     "output_type": "execute_result"
    }
   ],
   "source": [
    "# Check the new data\n",
    "hitter_numeric.head()"
   ]
  },
  {
   "cell_type": "code",
   "execution_count": 221,
   "metadata": {},
   "outputs": [],
   "source": [
    "# set predictors\n",
    "y = hitter_numeric.Salary\n",
    "x = hitter_numeric.drop(['Salary'],axis=1)"
   ]
  },
  {
   "cell_type": "markdown",
   "metadata": {},
   "source": [
    "### 1.1.1 Create a visualization of the coefficient trajectories"
   ]
  },
  {
   "cell_type": "code",
   "execution_count": 236,
   "metadata": {},
   "outputs": [
    {
     "data": {
      "image/png": "[encoded data removed]",
      "text/plain": [
       "<Figure size 432x288 with 1 Axes>"
      ]
     },
     "metadata": {},
     "output_type": "display_data"
    }
   ],
   "source": [
    "# Set the alpha sequence\n",
    "myalphas = 10**np.linspace(10,-2,100)*0.5\n",
    "\n",
    "#Fit the Lasso model for different alphas\n",
    "lasso = Lasso(max_iter = 10000, normalize=True)\n",
    "coefs = []\n",
    "\n",
    "for alpha in myalphas:\n",
    "    lasso.set_params(alpha=alpha)\n",
    "    lasso.fit(scale(x), y)\n",
    "    coefs.append(lasso.coef_)\n",
    "\n",
    "# plot the coefficient trajectories\n",
    "ax = plt.gca()\n",
    "ax.plot(alphas, coefs)\n",
    "ax.set_xscale('log')\n",
    "plt.axis('tight')\n",
    "plt.xlabel('alpha')\n",
    "plt.ylabel('Coefficients')\n",
    "plt.title('LASSO Coefficient trajectory')\n",
    "plt.show()"
   ]
  },
  {
   "cell_type": "markdown",
   "metadata": {},
   "source": [
    "### 1.1.2 Comment on which are the final three predictors that remain in the model"
   ]
  },
  {
   "cell_type": "code",
   "execution_count": 202,
   "metadata": {},
   "outputs": [
    {
     "data": {
      "text/plain": [
       "AtBat      0.000000\n",
       "Hits       0.037439\n",
       "HmRun      0.000000\n",
       "Runs       0.000000\n",
       "RBI        0.000000\n",
       "Walks      0.000000\n",
       "Years      0.000000\n",
       "CAtBat     0.000000\n",
       "CHits      0.000000\n",
       "CHmRun     0.000000\n",
       "CRuns      0.062909\n",
       "CRBI       0.176160\n",
       "CWalks     0.000000\n",
       "PutOuts    0.000000\n",
       "Assists    0.000000\n",
       "Errors     0.000000\n",
       "dtype: float64"
      ]
     },
     "execution_count": 202,
     "metadata": {},
     "output_type": "execute_result"
    }
   ],
   "source": [
    "lasso.set_params(alpha=11)\n",
    "lasso.fit(x,y)\n",
    "pd.Series(lasso.coef_, index=x.columns)"
   ]
  },
  {
   "cell_type": "markdown",
   "metadata": {},
   "source": [
    "Hence we can see that the final three predictors remain in the model are Hits, CRuns and CRBI."
   ]
  },
  {
   "cell_type": "markdown",
   "metadata": {},
   "source": [
    "### 1.1.3 Use cross-validation to find the optimal value of the regularization penalty"
   ]
  },
  {
   "cell_type": "code",
   "execution_count": 213,
   "metadata": {},
   "outputs": [
    {
     "name": "stdout",
     "output_type": "stream",
     "text": [
      "The optimal value of regularization penalty is: 0.5748784976988678\n"
     ]
    }
   ],
   "source": [
    "# Split data into train set and test set using 30% test size\n",
    "x_train,x_test,y_train,y_test = cross_validation.train_test_split(x, y,test_size=0.3,random_state = 123)\n",
    "\n",
    "# Using cross validation to fit the model\n",
    "lassocv = LassoCV(alphas=alphas, cv=10, max_iter=10000, normalize=True)\n",
    "lassocv.fit(x_train, y_train)\n",
    "\n",
    "# Find the optimal value of regularization penalty\n",
    "print(\"The optimal value of regularization penalty is: \"+str(lassocv.alpha_))"
   ]
  },
  {
   "cell_type": "code",
   "execution_count": 214,
   "metadata": {},
   "outputs": [
    {
     "data": {
      "text/plain": [
       "AtBat      -0.000000\n",
       "Hits        0.377930\n",
       "HmRun      -1.372734\n",
       "Runs        0.000000\n",
       "RBI         0.000000\n",
       "Walks       2.348490\n",
       "Years     -21.726809\n",
       "CAtBat      0.000000\n",
       "CHits       0.000000\n",
       "CHmRun      0.153057\n",
       "CRuns       0.657510\n",
       "CRBI        0.437270\n",
       "CWalks     -0.000000\n",
       "PutOuts     0.321255\n",
       "Assists     0.126297\n",
       "Errors     -3.525472\n",
       "dtype: float64"
      ]
     },
     "execution_count": 214,
     "metadata": {},
     "output_type": "execute_result"
    }
   ],
   "source": [
    "# Find predictors left in model\n",
    "lasso.set_params(alpha=lassocv.alpha_)\n",
    "lasso.fit(x_train, y_train)\n",
    "pd.Series(lasso.coef_, index=x.columns)"
   ]
  },
  {
   "cell_type": "markdown",
   "metadata": {},
   "source": [
    "### 1.1.4 How many predictors are left in that model?"
   ]
  },
  {
   "cell_type": "markdown",
   "metadata": {},
   "source": [
    "As we can see from the above result, ten predictors are left in the model."
   ]
  },
  {
   "cell_type": "markdown",
   "metadata": {},
   "source": [
    "## 1.2 Repeat With Ridge Regression"
   ]
  },
  {
   "cell_type": "markdown",
   "metadata": {},
   "source": [
    "### 1.2.1 Visualize the coefficient trajectories"
   ]
  },
  {
   "cell_type": "code",
   "execution_count": 235,
   "metadata": {},
   "outputs": [
    {
     "data": {
      "image/png": "[encoded data removed]",
      "text/plain": [
       "<Figure size 432x288 with 1 Axes>"
      ]
     },
     "metadata": {},
     "output_type": "display_data"
    }
   ],
   "source": [
    "# Fit for Ridge Regression using different alphas\n",
    "ridge = Ridge(normalize=True)\n",
    "coefs = []\n",
    "\n",
    "for alpha in myalphas:\n",
    "    ridge.set_params(alpha=alpha)\n",
    "    ridge.fit(x, y)\n",
    "    coefs.append(ridge.coef_)\n",
    "\n",
    "ax = plt.gca()\n",
    "ax.plot(alphas, coefs)\n",
    "ax.set_xscale('log')\n",
    "plt.axis('tight')\n",
    "plt.xlabel('alpha')\n",
    "plt.ylabel('Coefficients')\n",
    "plt.title('Ridge Coefficient Trajectory')\n",
    "plt.show()"
   ]
  },
  {
   "cell_type": "markdown",
   "metadata": {},
   "source": [
    "### 1.2.2 Use cross-validation to find the optimal value of the regularization penalty"
   ]
  },
  {
   "cell_type": "code",
   "execution_count": 232,
   "metadata": {},
   "outputs": [
    {
     "name": "stdout",
     "output_type": "stream",
     "text": [
      "The optimal value of regularization penalty is: 0.06164233697210317\n"
     ]
    }
   ],
   "source": [
    "# Use cross-validation to find the optimal value of the regularization penalty\n",
    "ridgecv = RidgeCV(alphas=alphas, scoring='neg_mean_squared_error', normalize=True)\n",
    "ridgecv.fit(x_train, y_train)\n",
    "\n",
    "# Find the optimal value of regularization penalty\n",
    "print(\"The optimal value of regularization penalty is: \"+str(ridgecv.alpha_))"
   ]
  },
  {
   "cell_type": "code",
   "execution_count": 234,
   "metadata": {},
   "outputs": [
    {
     "data": {
      "text/plain": [
       "AtBat     -0.727912\n",
       "Hits       2.719314\n",
       "HmRun     -2.605586\n",
       "Runs       1.337741\n",
       "RBI        1.224270\n",
       "Walks      3.262775\n",
       "Years     -8.534997\n",
       "CAtBat    -0.002679\n",
       "CHits      0.125832\n",
       "CHmRun     0.663452\n",
       "CRuns      0.305132\n",
       "CRBI       0.244125\n",
       "CWalks    -0.231094\n",
       "PutOuts    0.270423\n",
       "Assists    0.170718\n",
       "Errors    -3.414268\n",
       "dtype: float64"
      ]
     },
     "execution_count": 234,
     "metadata": {},
     "output_type": "execute_result"
    }
   ],
   "source": [
    "# Find predictors left in model\n",
    "ridge = Ridge(alpha=ridgecv.alpha_, normalize=True)\n",
    "ridge.fit(x_train, y_train)\n",
    "ridge.fit(x, y)\n",
    "pd.Series(ridge.coef_, index=x.columns)"
   ]
  },
  {
   "cell_type": "markdown",
   "metadata": {},
   "source": [
    "# 2 Short Answer"
   ]
  },
  {
   "cell_type": "markdown",
   "metadata": {},
   "source": [
    "## 2.1 Explain in your own words the bias-variance tradeoff"
   ]
  },
  {
   "cell_type": "markdown",
   "metadata": {},
   "source": [
    "When we measure a model is good or not, we use bias and variance to measure a model. Idealy, a good model should have a low bias and a low variance. However, low bias and low variance can't be achieved at the same time. That is, when we need a model that has more flexibility to fit data points, the variance would be lower but the bias would larger and the model will not fit too much noises. Similarly, when we sacrifice some flexibility to the model, we got a model with lower bias but larger variance. This process in balancing the bias and variance is the bias-variance tradeoff."
   ]
  },
  {
   "cell_type": "markdown",
   "metadata": {},
   "source": [
    "## 2.2 What role does regularization play in this tradeoff? "
   ]
  },
  {
   "cell_type": "markdown",
   "metadata": {},
   "source": [
    "The regularization here is to add some bias to the model hence the overall variance could be lower. The lower variance model would have better performance on MSE. "
   ]
  },
  {
   "cell_type": "markdown",
   "metadata": {},
   "source": [
    "## 2.3 Make reference to your findings in number (1) to describe models of high/low bias and variance"
   ]
  },
  {
   "cell_type": "markdown",
   "metadata": {},
   "source": [
    "Here in Lasso and Ridge regression models, the penalty will restrict the size of coefficients. The larger the penalty, the more bias will be added. Thus the variance of the model will be lower. For example, if alpha here is exrtremly large, all coefficients of predictors will be pushed to 0. On the contradictory, if alpha is extremely small and is close to zero, we will get a ordinary least square model that has very low bias."
   ]
  }
 ],
 "metadata": {
  "kernelspec": {
   "display_name": "Python 3",
   "language": "python",
   "name": "python3"
  },
  "language_info": {
   "codemirror_mode": {
    "name": "ipython",
    "version": 3
   },
   "file_extension": ".py",
   "mimetype": "text/x-python",
   "name": "python",
   "nbconvert_exporter": "python",
   "pygments_lexer": "ipython3",
   "version": "3.6.5"
  }
 },
 "nbformat": 4,
 "nbformat_minor": 2
}
