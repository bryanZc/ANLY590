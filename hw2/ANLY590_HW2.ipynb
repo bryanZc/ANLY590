{
  "nbformat": 4,
  "nbformat_minor": 0,
  "metadata": {
    "colab": {
      "name": "ANLY590_HW2.ipynb",
      "version": "0.3.2",
      "provenance": [],
      "collapsed_sections": [],
      "include_colab_link": true
    },
    "kernelspec": {
      "name": "python3",
      "display_name": "Python 3"
    },
    "accelerator": "GPU"
  },
  "cells": [
    {
      "cell_type": "markdown",
      "metadata": {
        "id": "view-in-github",
        "colab_type": "text"
      },
      "source": [
        "<a href=\"https://colab.research.google.com/github/bryanZc/ANLY590-Neural-Network-and-Deep-Learning/blob/master/hw2/ANLY590_HW2.ipynb\" target=\"_parent\"><img src=\"https://colab.research.google.com/assets/colab-badge.svg\" alt=\"Open In Colab\"/></a>"
      ]
    },
    {
      "metadata": {
        "id": "2Hlauc-Nu0FC",
        "colab_type": "text"
      },
      "cell_type": "markdown",
      "source": [
        "# 1 Autoencoder\n",
        "\n",
        "A convolutional autoencoder is a particular \n",
        "avor of autoencoder where we\n",
        "use convolutional layers instead of dense layers. We have previously applied\n",
        "autoencoders to images using only Dense layers and the result worked fairly\n",
        "well. However, the local spatial correlations of images imply that we should be\n",
        "able to do better using convolutional layers instead of Dense layers.\n",
        "\n",
        "Build and fit a convolutional autoencoder for the Fashion MNIST dataset.\n",
        "The components of this network will be many of the same pieces we've used\n",
        "with convolutional classification networks: Conv2D, MaxPooling, and so on.\n",
        "The encoder part of the network should run the input image through a few\n",
        "convolutional layers of your choice. The decoder part of the network will utilize\n",
        "UpSampling2D to get the representation back to the original image size.\n",
        "\n",
        "An example to guide your thinking can be found toward the bottom of this\n",
        "post https://blog.keras.io/building-autoencoders-in-keras.html.\n",
        "\n",
        "After training your network, visualize some examples of input images and\n",
        "their decoded reconstruction."
      ]
    },
    {
      "metadata": {
        "id": "NWKFYcN0u0FE",
        "colab_type": "code",
        "outputId": "9db66509-a34e-40b5-f642-ac4152154d5f",
        "colab": {
          "base_uri": "https://localhost:8080/",
          "height": 34
        }
      },
      "cell_type": "code",
      "source": [
        "from keras.datasets import fashion_mnist\n",
        "from keras.layers import Input, Dense, Conv1D,Conv2D,GlobalMaxPooling1D, MaxPooling2D, UpSampling2D,Dropout,Flatten, Embedding, LSTM\n",
        "from keras.models import Model,Sequential\n",
        "from keras import backend as K\n",
        "%matplotlib inline\n",
        "import numpy as np\n",
        "import pandas as pd\n",
        "import matplotlib.pyplot as plt\n",
        "\n",
        "from keras.utils import np_utils  \n",
        "from keras.preprocessing.image import img_to_array, array_to_img\n",
        "from keras.applications.vgg16 import VGG16, preprocess_input, decode_predictions\n",
        "from keras.layers.advanced_activations import LeakyReLU\n",
        "from keras.optimizers import SGD, Adam, RMSprop\n",
        "\n",
        "from keras.preprocessing.text import Tokenizer\n",
        "from string import printable\n",
        "from keras.preprocessing import sequence\n",
        "from keras.preprocessing.sequence import pad_sequences\n",
        "from sklearn.model_selection import train_test_split\n",
        "from keras import regularizers"
      ],
      "execution_count": 0,
      "outputs": [
        {
          "output_type": "stream",
          "text": [
            "Using TensorFlow backend.\n"
          ],
          "name": "stderr"
        }
      ]
    },
    {
      "metadata": {
        "id": "YPWcLSzDAVTC",
        "colab_type": "text"
      },
      "cell_type": "markdown",
      "source": [
        "### Data Preperation"
      ]
    },
    {
      "metadata": {
        "id": "o9bLJ3iBu0FQ",
        "colab_type": "code",
        "outputId": "f5dcb038-f64a-482e-dddb-0786c34c7bbb",
        "colab": {
          "base_uri": "https://localhost:8080/",
          "height": 85
        }
      },
      "cell_type": "code",
      "source": [
        "# Load fashion mnist data\n",
        "(x_train, y_train), (x_test, y_test) = fashion_mnist.load_data()\n",
        "\n",
        "# normalize data\n",
        "x_train = x_train.astype('float32') / 255.\n",
        "x_test = x_test.astype('float32') / 255.\n",
        "\n",
        "print(x_train.shape)\n",
        "print(x_test.shape)\n",
        "\n",
        "# reshape data\n",
        "x_train = x_train.reshape(x_train.shape[0], 28, 28, 1)  \n",
        "x_test = x_test.reshape(x_test.shape[0], 28, 28, 1)\n",
        "\n",
        "print(x_train.shape)\n",
        "print(x_test.shape)"
      ],
      "execution_count": 0,
      "outputs": [
        {
          "output_type": "stream",
          "text": [
            "(60000, 28, 28)\n",
            "(10000, 28, 28)\n",
            "(60000, 28, 28, 1)\n",
            "(10000, 28, 28, 1)\n"
          ],
          "name": "stdout"
        }
      ]
    },
    {
      "metadata": {
        "id": "DKwpC5nVHMds",
        "colab_type": "text"
      },
      "cell_type": "markdown",
      "source": [
        "### Train the Autoencoder"
      ]
    },
    {
      "metadata": {
        "id": "ZScm2yjKu0FJ",
        "colab_type": "code",
        "outputId": "b40515cc-1e2c-44e2-a780-9e94a7bb0276",
        "colab": {
          "base_uri": "https://localhost:8080/",
          "height": 612
        }
      },
      "cell_type": "code",
      "source": [
        "# Add Layers from the blog\n",
        "input_img = Input(shape=(28, 28, 1))  # adapt this if using `channels_first` image data format\n",
        "\n",
        "x = Conv2D(16, (3, 3), activation='relu', padding='same')(input_img)\n",
        "x = MaxPooling2D((2, 2), padding='same')(x)\n",
        "x = Conv2D(8, (3, 3), activation='relu', padding='same')(x)\n",
        "x = MaxPooling2D((2, 2), padding='same')(x)\n",
        "x = Conv2D(8, (3, 3), activation='relu', padding='same')(x)\n",
        "encoded = MaxPooling2D((2, 2), padding='same')(x)\n",
        "\n",
        "# at this point the representation is (4, 4, 8) i.e. 128-dimensional\n",
        "\n",
        "x = Conv2D(8, (3, 3), activation='relu', padding='same')(encoded)\n",
        "x = UpSampling2D((2, 2))(x)\n",
        "x = Conv2D(8, (3, 3), activation='relu', padding='same')(x)\n",
        "x = UpSampling2D((2, 2))(x)\n",
        "x = Conv2D(16, (3, 3), activation='relu')(x)\n",
        "x = UpSampling2D((2, 2))(x)\n",
        "decoded = Conv2D(1, (3, 3), activation='sigmoid', padding='same')(x)\n",
        "\n",
        "autoencoder = Model(input_img, decoded)\n",
        "autoencoder.summary()\n",
        "autoencoder.compile(optimizer='adadelta', loss='binary_crossentropy')"
      ],
      "execution_count": 0,
      "outputs": [
        {
          "output_type": "stream",
          "text": [
            "_________________________________________________________________\n",
            "Layer (type)                 Output Shape              Param #   \n",
            "=================================================================\n",
            "input_3 (InputLayer)         (None, 28, 28, 1)         0         \n",
            "_________________________________________________________________\n",
            "conv2d_15 (Conv2D)           (None, 28, 28, 16)        160       \n",
            "_________________________________________________________________\n",
            "max_pooling2d_7 (MaxPooling2 (None, 14, 14, 16)        0         \n",
            "_________________________________________________________________\n",
            "conv2d_16 (Conv2D)           (None, 14, 14, 8)         1160      \n",
            "_________________________________________________________________\n",
            "max_pooling2d_8 (MaxPooling2 (None, 7, 7, 8)           0         \n",
            "_________________________________________________________________\n",
            "conv2d_17 (Conv2D)           (None, 7, 7, 8)           584       \n",
            "_________________________________________________________________\n",
            "max_pooling2d_9 (MaxPooling2 (None, 4, 4, 8)           0         \n",
            "_________________________________________________________________\n",
            "conv2d_18 (Conv2D)           (None, 4, 4, 8)           584       \n",
            "_________________________________________________________________\n",
            "up_sampling2d_7 (UpSampling2 (None, 8, 8, 8)           0         \n",
            "_________________________________________________________________\n",
            "conv2d_19 (Conv2D)           (None, 8, 8, 8)           584       \n",
            "_________________________________________________________________\n",
            "up_sampling2d_8 (UpSampling2 (None, 16, 16, 8)         0         \n",
            "_________________________________________________________________\n",
            "conv2d_20 (Conv2D)           (None, 14, 14, 16)        1168      \n",
            "_________________________________________________________________\n",
            "up_sampling2d_9 (UpSampling2 (None, 28, 28, 16)        0         \n",
            "_________________________________________________________________\n",
            "conv2d_21 (Conv2D)           (None, 28, 28, 1)         145       \n",
            "=================================================================\n",
            "Total params: 4,385\n",
            "Trainable params: 4,385\n",
            "Non-trainable params: 0\n",
            "_________________________________________________________________\n"
          ],
          "name": "stdout"
        }
      ]
    },
    {
      "metadata": {
        "id": "JxAQ4Vrzu0FZ",
        "colab_type": "code",
        "outputId": "ee2336ba-f716-46e7-e72a-b912ae8d77fa",
        "colab": {
          "base_uri": "https://localhost:8080/",
          "height": 714
        }
      },
      "cell_type": "code",
      "source": [
        "#from keras.callbacks import TensorBoard\n",
        "auto_encoder_result = autoencoder.fit(x_train, x_train,\n",
        "                epochs=20,\n",
        "                batch_size=128,\n",
        "                shuffle=True,\n",
        "                validation_data=(x_test, x_test))"
      ],
      "execution_count": 0,
      "outputs": [
        {
          "output_type": "stream",
          "text": [
            "Train on 60000 samples, validate on 10000 samples\n",
            "Epoch 1/20\n",
            "60000/60000 [==============================] - 10s 174us/step - loss: 0.3728 - val_loss: 0.3340\n",
            "Epoch 2/20\n",
            "60000/60000 [==============================] - 7s 109us/step - loss: 0.3241 - val_loss: 0.3211\n",
            "Epoch 3/20\n",
            "60000/60000 [==============================] - 7s 110us/step - loss: 0.3143 - val_loss: 0.3148\n",
            "Epoch 4/20\n",
            "60000/60000 [==============================] - 7s 109us/step - loss: 0.3075 - val_loss: 0.3205\n",
            "Epoch 5/20\n",
            "60000/60000 [==============================] - 7s 109us/step - loss: 0.3030 - val_loss: 0.3030\n",
            "Epoch 6/20\n",
            "60000/60000 [==============================] - 6s 108us/step - loss: 0.3007 - val_loss: 0.3000\n",
            "Epoch 7/20\n",
            "60000/60000 [==============================] - 7s 109us/step - loss: 0.2988 - val_loss: 0.3013\n",
            "Epoch 8/20\n",
            "60000/60000 [==============================] - 7s 110us/step - loss: 0.2969 - val_loss: 0.2982\n",
            "Epoch 9/20\n",
            "60000/60000 [==============================] - 6s 108us/step - loss: 0.2958 - val_loss: 0.2955\n",
            "Epoch 10/20\n",
            "60000/60000 [==============================] - 6s 107us/step - loss: 0.2946 - val_loss: 0.2945\n",
            "Epoch 11/20\n",
            "60000/60000 [==============================] - 6s 106us/step - loss: 0.2935 - val_loss: 0.2971\n",
            "Epoch 12/20\n",
            "60000/60000 [==============================] - 6s 107us/step - loss: 0.2931 - val_loss: 0.2985\n",
            "Epoch 13/20\n",
            "60000/60000 [==============================] - 6s 107us/step - loss: 0.2927 - val_loss: 0.2926\n",
            "Epoch 14/20\n",
            "60000/60000 [==============================] - 6s 108us/step - loss: 0.2918 - val_loss: 0.2912\n",
            "Epoch 15/20\n",
            "60000/60000 [==============================] - 6s 108us/step - loss: 0.2911 - val_loss: 0.2933\n",
            "Epoch 16/20\n",
            "60000/60000 [==============================] - 6s 107us/step - loss: 0.2906 - val_loss: 0.2933\n",
            "Epoch 17/20\n",
            "60000/60000 [==============================] - 6s 106us/step - loss: 0.2900 - val_loss: 0.2976\n",
            "Epoch 18/20\n",
            "60000/60000 [==============================] - 6s 106us/step - loss: 0.2897 - val_loss: 0.2889\n",
            "Epoch 19/20\n",
            "60000/60000 [==============================] - 6s 106us/step - loss: 0.2895 - val_loss: 0.2893\n",
            "Epoch 20/20\n",
            "60000/60000 [==============================] - 6s 106us/step - loss: 0.2891 - val_loss: 0.2923\n"
          ],
          "name": "stdout"
        }
      ]
    },
    {
      "metadata": {
        "id": "U5VThLEwu0Fi",
        "colab_type": "code",
        "outputId": "6acd0c76-e4b6-499b-f436-4b32685c6e0b",
        "colab": {
          "base_uri": "https://localhost:8080/",
          "height": 294
        }
      },
      "cell_type": "code",
      "source": [
        "# Visualize the loss\n",
        "def loss_plot(history):\n",
        "    # summarize history for loss\n",
        "    plt.plot(history.history['loss'])\n",
        "    plt.plot(history.history['val_loss'])\n",
        "    plt.title('model loss')\n",
        "    plt.ylabel('loss')\n",
        "    plt.xlabel('epoch')\n",
        "    plt.legend(['train', 'test'], loc='upper right')\n",
        "    plt.show()\n",
        "\n",
        "loss_plot(auto_encoder_result)"
      ],
      "execution_count": 0,
      "outputs": [
        {
          "output_type": "display_data",
          "data": {
            "image/png": "[encoded data removed]",
            "text/plain": [
              "<matplotlib.figure.Figure at 0x7f48a4e32400>"
            ]
          },
          "metadata": {
            "tags": []
          }
        }
      ]
    },
    {
      "metadata": {
        "id": "tMySfNlpLdoB",
        "colab_type": "code",
        "outputId": "5aee507b-13bf-42a0-a296-74c666ac87c0",
        "colab": {
          "base_uri": "https://localhost:8080/",
          "height": 244
        }
      },
      "cell_type": "code",
      "source": [
        "#decode image and visualize\n",
        "decoded_imgs = autoencoder.predict(x_test)\n",
        "\n",
        "n = 10\n",
        "plt.figure(figsize=(20, 4))\n",
        "\n",
        "for i in range(n):\n",
        "    # display original\n",
        "    ax = plt.subplot(2, n, i+1)\n",
        "    plt.imshow(x_test[i].reshape(28, 28))\n",
        "    plt.gray()\n",
        "    ax.get_xaxis().set_visible(False)\n",
        "    ax.get_yaxis().set_visible(False)\n",
        "\n",
        "    # display reconstruction\n",
        "    ax = plt.subplot(2, n, i + n+1)\n",
        "    plt.imshow(decoded_imgs[i].reshape(28, 28))\n",
        "    plt.gray()\n",
        "    ax.get_xaxis().set_visible(False)\n",
        "    ax.get_yaxis().set_visible(False)\n",
        "\n",
        "plt.show()"
      ],
      "execution_count": 0,
      "outputs": [
        {
          "output_type": "display_data",
          "data": {
            "image/png": "[encoded data removed]",
            "text/plain": [
              "<matplotlib.figure.Figure at 0x7f48a198a8d0>"
            ]
          },
          "metadata": {
            "tags": []
          }
        }
      ]
    },
    {
      "metadata": {
        "id": "DWvqMcpTIrN6",
        "colab_type": "text"
      },
      "cell_type": "markdown",
      "source": [
        "From above result, we can see that the test loss and the train loss are similar and the structure of the ouput picture is still recognizable."
      ]
    },
    {
      "metadata": {
        "id": "yj86QBOCu0Fu",
        "colab_type": "text"
      },
      "cell_type": "markdown",
      "source": [
        "# 2 Image Classification\n",
        "\n",
        "We'll continue to use the Fashion MNIST dataset and build a deep convolutional\n",
        "network for classification."
      ]
    },
    {
      "metadata": {
        "id": "RBQQnRwJu0Fw",
        "colab_type": "text"
      },
      "cell_type": "markdown",
      "source": [
        "## 2.1 Deep CNN\n",
        "\n",
        "Build a deep CNN to classify the images. Provide a brief description of the\n",
        "architectural choices you've made: kernel sizes, strides, padding, network depth.\n",
        "Train your network end-to-end. Report on your model's performance on training\n",
        "set and test set."
      ]
    },
    {
      "metadata": {
        "id": "txpA8ecbzv8o",
        "colab_type": "text"
      },
      "cell_type": "markdown",
      "source": [
        "### Data Preperation"
      ]
    },
    {
      "metadata": {
        "id": "OCQjnlLmu0F0",
        "colab_type": "code",
        "outputId": "ad27a1b1-1395-4a35-a0f9-cfd4f3daadf2",
        "colab": {
          "base_uri": "https://localhost:8080/",
          "height": 85
        }
      },
      "cell_type": "code",
      "source": [
        "# Load fashion mnist data\n",
        "(x_train, y_train), (x_test, y_test) = fashion_mnist.load_data()\n",
        "\n",
        "# normalize data\n",
        "x_train = x_train.astype('float32') / 255.\n",
        "x_test = x_test.astype('float32') / 255.\n",
        "\n",
        "print(x_train.shape)\n",
        "print(x_test.shape)\n",
        "\n",
        "# reshape data\n",
        "x_train = x_train.reshape(x_train.shape[0], 28, 28, 1)  \n",
        "x_test = x_test.reshape(x_test.shape[0], 28, 28, 1)\n",
        "\n",
        "print(x_train.shape)\n",
        "print(x_test.shape)\n",
        "\n",
        "# make a categorical clothing type\n",
        "y_train = np_utils.to_categorical(y_train, 10)\n",
        "y_test = np_utils.to_categorical(y_test, 10)"
      ],
      "execution_count": 0,
      "outputs": [
        {
          "output_type": "stream",
          "text": [
            "(60000, 28, 28)\n",
            "(10000, 28, 28)\n",
            "(60000, 28, 28, 1)\n",
            "(10000, 28, 28, 1)\n"
          ],
          "name": "stdout"
        }
      ]
    },
    {
      "metadata": {
        "id": "8gYBi7V5z0Dg",
        "colab_type": "text"
      },
      "cell_type": "markdown",
      "source": [
        "### Add Layers\n",
        "\n"
      ]
    },
    {
      "metadata": {
        "id": "AZAQeth3u0F6",
        "colab_type": "code",
        "outputId": "fb29e787-7dd6-487c-b850-5572c5e71907",
        "colab": {
          "base_uri": "https://localhost:8080/",
          "height": 442
        }
      },
      "cell_type": "code",
      "source": [
        "model = Sequential()\n",
        "\n",
        "model.add(Conv2D(filters = 64,kernel_size=(3, 3), \n",
        "                 activation='relu', strides=(1, 1), \n",
        "                 padding='valid',\n",
        "                 input_shape=(28,28,1)))\n",
        "\n",
        "\n",
        "model.add(MaxPooling2D(pool_size=(2,2)))\n",
        "\n",
        "model.add(Conv2D(filters = 64,kernel_size=(3, 3), \n",
        "                 activation='relu', strides=(1, 1), \n",
        "                 padding='valid'))\n",
        "\n",
        "model.add(MaxPooling2D(pool_size=(2,2)))\n",
        "\n",
        "model.add(Dropout(0.25))\n",
        "model.add(Flatten())\n",
        "model.add(Dense(64, activation='relu'))\n",
        "model.add(Dropout(0.5))\n",
        "model.add(Dense(10, activation='softmax'))\n",
        "\n",
        "model.summary()\n",
        "model.compile(loss='categorical_crossentropy',\n",
        "              optimizer='adam',\n",
        "              metrics=['accuracy'])"
      ],
      "execution_count": 0,
      "outputs": [
        {
          "output_type": "stream",
          "text": [
            "_________________________________________________________________\n",
            "Layer (type)                 Output Shape              Param #   \n",
            "=================================================================\n",
            "conv2d_26 (Conv2D)           (None, 26, 26, 64)        640       \n",
            "_________________________________________________________________\n",
            "max_pooling2d_14 (MaxPooling (None, 13, 13, 64)        0         \n",
            "_________________________________________________________________\n",
            "conv2d_27 (Conv2D)           (None, 11, 11, 64)        36928     \n",
            "_________________________________________________________________\n",
            "max_pooling2d_15 (MaxPooling (None, 5, 5, 64)          0         \n",
            "_________________________________________________________________\n",
            "dropout_11 (Dropout)         (None, 5, 5, 64)          0         \n",
            "_________________________________________________________________\n",
            "flatten_6 (Flatten)          (None, 1600)              0         \n",
            "_________________________________________________________________\n",
            "dense_15 (Dense)             (None, 64)                102464    \n",
            "_________________________________________________________________\n",
            "dropout_12 (Dropout)         (None, 64)                0         \n",
            "_________________________________________________________________\n",
            "dense_16 (Dense)             (None, 10)                650       \n",
            "=================================================================\n",
            "Total params: 140,682\n",
            "Trainable params: 140,682\n",
            "Non-trainable params: 0\n",
            "_________________________________________________________________\n"
          ],
          "name": "stdout"
        }
      ]
    },
    {
      "metadata": {
        "id": "alABHPYbu0F9",
        "colab_type": "code",
        "outputId": "c9b77f08-aea7-4ba0-8eb8-bcb25b494e28",
        "colab": {
          "base_uri": "https://localhost:8080/",
          "height": 1054
        }
      },
      "cell_type": "code",
      "source": [
        "model_training = model.fit(x_train,\n",
        "                             y_train,\n",
        "                             batch_size=128,\n",
        "                             epochs=30,\n",
        "                             validation_data=(x_test, y_test))"
      ],
      "execution_count": 0,
      "outputs": [
        {
          "output_type": "stream",
          "text": [
            "Train on 60000 samples, validate on 10000 samples\n",
            "Epoch 1/30\n",
            "60000/60000 [==============================] - 8s 137us/step - loss: 0.7417 - acc: 0.7317 - val_loss: 0.4370 - val_acc: 0.8349\n",
            "Epoch 2/30\n",
            "60000/60000 [==============================] - 7s 119us/step - loss: 0.4759 - acc: 0.8298 - val_loss: 0.3550 - val_acc: 0.8713\n",
            "Epoch 3/30\n",
            "60000/60000 [==============================] - 7s 119us/step - loss: 0.4183 - acc: 0.8506 - val_loss: 0.3376 - val_acc: 0.8743\n",
            "Epoch 4/30\n",
            "60000/60000 [==============================] - 7s 120us/step - loss: 0.3846 - acc: 0.8624 - val_loss: 0.3130 - val_acc: 0.8839\n",
            "Epoch 5/30\n",
            "60000/60000 [==============================] - 7s 122us/step - loss: 0.3618 - acc: 0.8709 - val_loss: 0.2983 - val_acc: 0.8902\n",
            "Epoch 6/30\n",
            "60000/60000 [==============================] - 7s 121us/step - loss: 0.3425 - acc: 0.8762 - val_loss: 0.2904 - val_acc: 0.8900\n",
            "Epoch 7/30\n",
            "60000/60000 [==============================] - 7s 119us/step - loss: 0.3228 - acc: 0.8836 - val_loss: 0.2912 - val_acc: 0.8924\n",
            "Epoch 8/30\n",
            "60000/60000 [==============================] - 7s 119us/step - loss: 0.3147 - acc: 0.8862 - val_loss: 0.2769 - val_acc: 0.9027\n",
            "Epoch 9/30\n",
            "60000/60000 [==============================] - 7s 118us/step - loss: 0.3004 - acc: 0.8908 - val_loss: 0.2618 - val_acc: 0.9061\n",
            "Epoch 10/30\n",
            "60000/60000 [==============================] - 7s 118us/step - loss: 0.2899 - acc: 0.8954 - val_loss: 0.2593 - val_acc: 0.9022\n",
            "Epoch 11/30\n",
            "60000/60000 [==============================] - 7s 118us/step - loss: 0.2798 - acc: 0.8981 - val_loss: 0.2613 - val_acc: 0.9039\n",
            "Epoch 12/30\n",
            "60000/60000 [==============================] - 7s 119us/step - loss: 0.2752 - acc: 0.8994 - val_loss: 0.2573 - val_acc: 0.9031\n",
            "Epoch 13/30\n",
            "60000/60000 [==============================] - 7s 118us/step - loss: 0.2706 - acc: 0.9017 - val_loss: 0.2478 - val_acc: 0.9075\n",
            "Epoch 14/30\n",
            "60000/60000 [==============================] - 7s 118us/step - loss: 0.2632 - acc: 0.9047 - val_loss: 0.2586 - val_acc: 0.9021\n",
            "Epoch 15/30\n",
            "60000/60000 [==============================] - 7s 119us/step - loss: 0.2554 - acc: 0.9061 - val_loss: 0.2452 - val_acc: 0.9082\n",
            "Epoch 16/30\n",
            "60000/60000 [==============================] - 7s 120us/step - loss: 0.2508 - acc: 0.9081 - val_loss: 0.2415 - val_acc: 0.9117\n",
            "Epoch 17/30\n",
            "60000/60000 [==============================] - 7s 120us/step - loss: 0.2446 - acc: 0.9096 - val_loss: 0.2412 - val_acc: 0.9127\n",
            "Epoch 18/30\n",
            "60000/60000 [==============================] - 7s 118us/step - loss: 0.2409 - acc: 0.9110 - val_loss: 0.2385 - val_acc: 0.9104\n",
            "Epoch 19/30\n",
            "60000/60000 [==============================] - 7s 118us/step - loss: 0.2337 - acc: 0.9130 - val_loss: 0.2432 - val_acc: 0.9125\n",
            "Epoch 20/30\n",
            "60000/60000 [==============================] - 7s 118us/step - loss: 0.2312 - acc: 0.9148 - val_loss: 0.2409 - val_acc: 0.9104\n",
            "Epoch 21/30\n",
            "60000/60000 [==============================] - 7s 118us/step - loss: 0.2280 - acc: 0.9154 - val_loss: 0.2353 - val_acc: 0.9133\n",
            "Epoch 22/30\n",
            "60000/60000 [==============================] - 7s 118us/step - loss: 0.2253 - acc: 0.9168 - val_loss: 0.2379 - val_acc: 0.9107\n",
            "Epoch 23/30\n",
            "60000/60000 [==============================] - 7s 118us/step - loss: 0.2203 - acc: 0.9168 - val_loss: 0.2517 - val_acc: 0.9095\n",
            "Epoch 24/30\n",
            "60000/60000 [==============================] - 7s 121us/step - loss: 0.2185 - acc: 0.9185 - val_loss: 0.2462 - val_acc: 0.9100\n",
            "Epoch 25/30\n",
            "60000/60000 [==============================] - 7s 119us/step - loss: 0.2158 - acc: 0.9196 - val_loss: 0.2442 - val_acc: 0.9141\n",
            "Epoch 26/30\n",
            "60000/60000 [==============================] - 7s 118us/step - loss: 0.2083 - acc: 0.9220 - val_loss: 0.2388 - val_acc: 0.9158\n",
            "Epoch 27/30\n",
            "60000/60000 [==============================] - 7s 119us/step - loss: 0.2095 - acc: 0.9217 - val_loss: 0.2316 - val_acc: 0.9148\n",
            "Epoch 28/30\n",
            "60000/60000 [==============================] - 7s 119us/step - loss: 0.2078 - acc: 0.9214 - val_loss: 0.2370 - val_acc: 0.9157\n",
            "Epoch 29/30\n",
            "60000/60000 [==============================] - 7s 118us/step - loss: 0.2032 - acc: 0.9238 - val_loss: 0.2390 - val_acc: 0.9147\n",
            "Epoch 30/30\n",
            "60000/60000 [==============================] - 7s 118us/step - loss: 0.2021 - acc: 0.9257 - val_loss: 0.2406 - val_acc: 0.9135\n"
          ],
          "name": "stdout"
        }
      ]
    },
    {
      "metadata": {
        "id": "GtTtG-Xcu0GI",
        "colab_type": "code",
        "outputId": "ca94596f-99e6-4b65-e560-098624356896",
        "colab": {
          "base_uri": "https://localhost:8080/",
          "height": 362
        }
      },
      "cell_type": "code",
      "source": [
        "# Evaluate and Plot history\n",
        "\n",
        "test_score = model.evaluate(x_test, y_test)\n",
        "train_score = model.evaluate(x_train, y_train)\n",
        "print(test_score)\n",
        "print(train_score)\n",
        "loss_plot(model_training)"
      ],
      "execution_count": 0,
      "outputs": [
        {
          "output_type": "stream",
          "text": [
            "10000/10000 [==============================] - 1s 98us/step\n",
            "60000/60000 [==============================] - 6s 102us/step\n",
            "[0.24062041827738284, 0.9135]\n",
            "[0.1231060484106342, 0.9525666666666667]\n"
          ],
          "name": "stdout"
        },
        {
          "output_type": "display_data",
          "data": {
            "image/png": "[encoded data removed]",
            "text/plain": [
              "<matplotlib.figure.Figure at 0x7f488384d550>"
            ]
          },
          "metadata": {
            "tags": []
          }
        }
      ]
    },
    {
      "metadata": {
        "id": "TeZEUWPPMElF",
        "colab_type": "text"
      },
      "cell_type": "markdown",
      "source": [
        "Here, I chosed a network with two convolutional layers with 64 filters, kernel_size = (3,3), strides = (1,1) and chosed padding = \"valid\". Also with a dense layer of size 64.  \n",
        "\n",
        "From the above result, the model achieved an 91.35% accuracy on test data after 30 epochs and the loss is around 0.24. Also, the model achieved a 95.25% accuracy and 0.12 loss on train data."
      ]
    },
    {
      "metadata": {
        "id": "-gYTaJdUu0GP",
        "colab_type": "text"
      },
      "cell_type": "markdown",
      "source": [
        "## 2.2 Trasfer Learning"
      ]
    },
    {
      "metadata": {
        "id": "Mv8lWME_u0GP",
        "colab_type": "text"
      },
      "cell_type": "markdown",
      "source": [
        "Repeat the same task, but this time utilize a pre-trained network for the major-\n",
        "ity of your model. You should only train the final Dense layer, all other weights\n",
        "should be fixed. You can use whichever pre-trained backbone you like (ResNet,\n",
        "VGG, etc). Report on your model's performance on training set and test set."
      ]
    },
    {
      "metadata": {
        "id": "e1Hd7G-ZAnZu",
        "colab_type": "text"
      },
      "cell_type": "markdown",
      "source": [
        "### Data Prep"
      ]
    },
    {
      "metadata": {
        "id": "oNCXvPGwu0GQ",
        "colab_type": "code",
        "outputId": "a0c154bf-b027-407d-ab8f-bfb3e606b43b",
        "colab": {
          "base_uri": "https://localhost:8080/",
          "height": 119
        }
      },
      "cell_type": "code",
      "source": [
        "# Load fashion mnist data\n",
        "(x_train, y_train), (x_test, y_test) = fashion_mnist.load_data()\n",
        "\n",
        "# normalize data\n",
        "x_train = x_train.astype('float32') / 255.\n",
        "x_test = x_test.astype('float32') / 255.\n",
        "\n",
        "print(x_train.shape)\n",
        "print(x_test.shape)\n",
        "\n",
        "# reshape data\n",
        "x_train = x_train.reshape(x_train.shape[0], 28, 28, 1)  \n",
        "x_test = x_test.reshape(x_test.shape[0], 28, 28, 1)\n",
        "\n",
        "print(x_train.shape)\n",
        "print(x_test.shape)\n",
        "\n",
        "# make a categorical clothing type\n",
        "y_train = np_utils.to_categorical(y_train, 10)\n",
        "y_test = np_utils.to_categorical(y_test, 10)\n",
        "\n",
        "\n",
        "x_train_tl = np.asarray([cv2.resize(x, (48,48)) for x in x_train])\n",
        "x_test_tl = np.asarray([cv2.resize(x, (48,48)) for x in x_test])\n",
        "\n",
        "x_train_tl = x_train_tl.reshape(x_train_tl.shape[0], 48, 48,1)\n",
        "x_test_tl  = x_test_tl.reshape(x_test_tl.shape[0], 48, 48, 1)\n",
        "\n",
        "# make gray images into rgb images\n",
        "x_train_tl = x_train_tl.repeat(3, axis=-1)\n",
        "x_test_tl  = x_test_tl.repeat(3, axis=-1)\n",
        "\n",
        "print(x_train_tl.shape)\n",
        "print(x_test_tl.shape)\n"
      ],
      "execution_count": 0,
      "outputs": [
        {
          "output_type": "stream",
          "text": [
            "(60000, 28, 28)\n",
            "(10000, 28, 28)\n",
            "(60000, 28, 28, 1)\n",
            "(10000, 28, 28, 1)\n",
            "(60000, 48, 48, 3)\n",
            "(10000, 48, 48, 3)\n"
          ],
          "name": "stdout"
        }
      ]
    },
    {
      "metadata": {
        "id": "SQ20Wxq4u0GT",
        "colab_type": "code",
        "outputId": "ca485035-81c3-4808-903c-d4f2587bf6c8",
        "colab": {
          "base_uri": "https://localhost:8080/",
          "height": 272
        }
      },
      "cell_type": "code",
      "source": [
        "conv_base = VGG16(weights=\"imagenet\",include_top=False,input_shape=(48,48,3))\n",
        "\n",
        "model = Sequential()\n",
        "model.add(conv_base)\n",
        "model.add(Flatten())\n",
        "model.add(Dense(256, activation=\"relu\"))\n",
        "model.add(Dense(10, activation=\"softmax\"))\n",
        "\n",
        "conv_base.trainable = False\n",
        "model.summary()"
      ],
      "execution_count": 0,
      "outputs": [
        {
          "output_type": "stream",
          "text": [
            "_________________________________________________________________\n",
            "Layer (type)                 Output Shape              Param #   \n",
            "=================================================================\n",
            "vgg16 (Model)                (None, 1, 1, 512)         14714688  \n",
            "_________________________________________________________________\n",
            "flatten_15 (Flatten)         (None, 512)               0         \n",
            "_________________________________________________________________\n",
            "dense_33 (Dense)             (None, 256)               131328    \n",
            "_________________________________________________________________\n",
            "dense_34 (Dense)             (None, 10)                2570      \n",
            "=================================================================\n",
            "Total params: 14,848,586\n",
            "Trainable params: 133,898\n",
            "Non-trainable params: 14,714,688\n",
            "_________________________________________________________________\n"
          ],
          "name": "stdout"
        }
      ]
    },
    {
      "metadata": {
        "id": "ukDo_RoOE92E",
        "colab_type": "code",
        "outputId": "34e90408-50e2-4c05-c5ad-b889cdd7291b",
        "colab": {
          "base_uri": "https://localhost:8080/",
          "height": 544
        }
      },
      "cell_type": "code",
      "source": [
        "model.compile(loss=\"categorical_crossentropy\", optimizer='adam', metrics=[\"acc\"])\n",
        "\n",
        "tl_model = model.fit(x_train_tl, \n",
        "          y_train,\n",
        "          batch_size=128,\n",
        "          shuffle=True,\n",
        "          epochs=15, \n",
        "          validation_data=(x_test_tl, y_test))"
      ],
      "execution_count": 0,
      "outputs": [
        {
          "output_type": "stream",
          "text": [
            "Train on 60000 samples, validate on 10000 samples\n",
            "Epoch 1/15\n",
            "60000/60000 [==============================] - 42s 708us/step - loss: 0.5586 - acc: 0.8095 - val_loss: 0.4310 - val_acc: 0.8462\n",
            "Epoch 2/15\n",
            "60000/60000 [==============================] - 41s 680us/step - loss: 0.3958 - acc: 0.8574 - val_loss: 0.3966 - val_acc: 0.8592\n",
            "Epoch 3/15\n",
            "60000/60000 [==============================] - 41s 680us/step - loss: 0.3627 - acc: 0.8684 - val_loss: 0.3912 - val_acc: 0.8576\n",
            "Epoch 4/15\n",
            "60000/60000 [==============================] - 41s 680us/step - loss: 0.3431 - acc: 0.8740 - val_loss: 0.3749 - val_acc: 0.8673\n",
            "Epoch 5/15\n",
            "60000/60000 [==============================] - 41s 680us/step - loss: 0.3268 - acc: 0.8800 - val_loss: 0.3665 - val_acc: 0.8696\n",
            "Epoch 6/15\n",
            "60000/60000 [==============================] - 41s 680us/step - loss: 0.3152 - acc: 0.8849 - val_loss: 0.3545 - val_acc: 0.8761\n",
            "Epoch 7/15\n",
            "60000/60000 [==============================] - 41s 680us/step - loss: 0.3003 - acc: 0.8904 - val_loss: 0.3609 - val_acc: 0.8735\n",
            "Epoch 8/15\n",
            "60000/60000 [==============================] - 41s 680us/step - loss: 0.2888 - acc: 0.8941 - val_loss: 0.3475 - val_acc: 0.8774\n",
            "Epoch 9/15\n",
            "60000/60000 [==============================] - 41s 681us/step - loss: 0.2791 - acc: 0.8969 - val_loss: 0.3493 - val_acc: 0.8778\n",
            "Epoch 10/15\n",
            "60000/60000 [==============================] - 41s 681us/step - loss: 0.2681 - acc: 0.9017 - val_loss: 0.3436 - val_acc: 0.8794\n",
            "Epoch 11/15\n",
            "60000/60000 [==============================] - 41s 680us/step - loss: 0.2598 - acc: 0.9040 - val_loss: 0.3461 - val_acc: 0.8772\n",
            "Epoch 12/15\n",
            "60000/60000 [==============================] - 41s 680us/step - loss: 0.2530 - acc: 0.9065 - val_loss: 0.3429 - val_acc: 0.8788\n",
            "Epoch 13/15\n",
            "60000/60000 [==============================] - 41s 680us/step - loss: 0.2435 - acc: 0.9103 - val_loss: 0.3435 - val_acc: 0.8820\n",
            "Epoch 14/15\n",
            "60000/60000 [==============================] - 41s 680us/step - loss: 0.2373 - acc: 0.9125 - val_loss: 0.3376 - val_acc: 0.8841\n",
            "Epoch 15/15\n",
            "60000/60000 [==============================] - 41s 679us/step - loss: 0.2297 - acc: 0.9154 - val_loss: 0.3341 - val_acc: 0.8859\n"
          ],
          "name": "stdout"
        }
      ]
    },
    {
      "metadata": {
        "id": "GWhPxuTru0Gm",
        "colab_type": "code",
        "outputId": "b0827f99-ce07-4a22-f58b-44425263f8b7",
        "colab": {
          "base_uri": "https://localhost:8080/",
          "height": 51
        }
      },
      "cell_type": "code",
      "source": [
        "# Evaluate the model \n",
        "score_test = model.evaluate(x_test_tl, y_test, verbose=0)\n",
        "print(\"Test: \",score_test)\n",
        "score_train = model.evaluate(x_train_tl, y_train, verbose=0)\n",
        "print(\"Train: \",score_train)"
      ],
      "execution_count": 0,
      "outputs": [
        {
          "output_type": "stream",
          "text": [
            "Test:  [0.33409591370821, 0.8859]\n",
            "Train:  [0.2104995892037948, 0.9241333333333334]\n"
          ],
          "name": "stdout"
        }
      ]
    },
    {
      "metadata": {
        "id": "AD9yXTm9kZVj",
        "colab_type": "code",
        "outputId": "72c4dee7-3d63-46a4-a5fa-dfe3fc7a4506",
        "colab": {
          "base_uri": "https://localhost:8080/",
          "height": 294
        }
      },
      "cell_type": "code",
      "source": [
        "loss_plot(tl_model)"
      ],
      "execution_count": 0,
      "outputs": [
        {
          "output_type": "display_data",
          "data": {
            "image/png": "[encoded data removed]",
            "text/plain": [
              "<matplotlib.figure.Figure at 0x7f481eec5c50>"
            ]
          },
          "metadata": {
            "tags": []
          }
        }
      ]
    },
    {
      "metadata": {
        "id": "S1rjBb4oM4I-",
        "colab_type": "text"
      },
      "cell_type": "markdown",
      "source": [
        "Here I choosed to use the VGG pre-trained backbone. With a final dense layer of size 256, the model achieved an accuracy about 88.59% and 0.33 loss on test set. The accuracy and loss on train set is around 92.4% and 0.21. Compare to the deep CNN model, the result is not as good as the deep CNN model."
      ]
    },
    {
      "metadata": {
        "id": "xywVFjZMu0Gs",
        "colab_type": "text"
      },
      "cell_type": "markdown",
      "source": [
        "# 3 Text Classification"
      ]
    },
    {
      "metadata": {
        "id": "NCS2k_aHu0Gt",
        "colab_type": "text"
      },
      "cell_type": "markdown",
      "source": [
        "While images contain local spatial correlations and structure, many other datasets\n",
        "contain temporal correlations. Examples include time series and discrete se-\n",
        "quences such as text. In this problem, we will tackle the task of text classifica-\n",
        "tion in the context of cybersecurity.\n",
        "\n",
        "Background. When malware infects a host computer, it often needs to\n",
        "reach out to an outside server for further instructions or to download additional\n",
        "payloads. This outside server is called a Command-and-Control server (C2).\n",
        "The malware needs to send a specific communication to the C2 server, thus the\n",
        "C2 server needs to have a registered IP address or associated web domain so\n",
        "that it can be reached. Therefore, being able to identify web domains that are\n",
        "likely related to malware C2 can be a valuable cyber defense.\n",
        "\n",
        "Dataset. Fortunately, security researchers have already identified and logged\n",
        "a large number of malicious URLs. Additionally, we can catalog common \"be-\n",
        "nign\" URLs just from typical web behavior (these would include things like\n",
        "facebook.com and amazon.com). Hence, we have a labeled dataset for text\n",
        "classification which can be downloaded here:\n",
        "\n",
        "\u000f https://s3.amazonaws.com/anly-590/url-classification/benign-urls.txt\n",
        "\n",
        "\u000f https://s3.amazonaws.com/anly-590/url-classification/malicious-urls.txt"
      ]
    },
    {
      "metadata": {
        "id": "vYHh1fApu0Gt",
        "colab_type": "text"
      },
      "cell_type": "markdown",
      "source": [
        "## 3.1 RNN\n",
        "\n",
        "Build and train a Recurrent Neural Network to solve this text classi\fcation task.\n",
        "You can use any type of RNN you wish (SimpleRNN, GRU, LSTM)."
      ]
    },
    {
      "metadata": {
        "id": "8zbEH842zUHD",
        "colab_type": "text"
      },
      "cell_type": "markdown",
      "source": [
        "### Data Prep"
      ]
    },
    {
      "metadata": {
        "id": "HvcjkMahu0Gu",
        "colab_type": "code",
        "outputId": "832419e1-56a7-498d-bb31-8546d568452f",
        "colab": {
          "base_uri": "https://localhost:8080/",
          "height": 102
        }
      },
      "cell_type": "code",
      "source": [
        "import requests\n",
        "from sklearn.utils import class_weight\n",
        "\n",
        "benign_url = requests.get(\"https://s3.amazonaws.com/anly-590/url-classification/benign-urls.txt\").text\n",
        "malicious_url = requests.get(\"https://s3.amazonaws.com/anly-590/url-classification/malicious-urls.txt\").text\n",
        "\n",
        "all_url = benign_url+'\\n'+malicious_url\n",
        "url_list = list(all_url.split(\"\\n\"))\n",
        "ben_list = list(benign_url.split(\"\\n\"))\n",
        "mal_list = list(malicious_url.split(\"\\n\"))\n",
        "print(len(url_list))\n",
        "print(len(ben_list))\n",
        "print(len(mal_list))\n",
        "# seperate class, 0 for ben, 1 for mal\n",
        "label_list = [0]*len(ben_list)+[1]*len(mal_list)\n",
        "print(len(label_list))\n",
        "\n",
        "# encode urls\n",
        "tokenizer = Tokenizer(char_level=True)\n",
        "tokenizer.fit_on_texts(url_list)\n",
        "sequence_results = tokenizer.texts_to_sequences(url_list)\n",
        "\n",
        "# pad sequence\n",
        "maxlen = max(len(x) for x in sequence_results)\n",
        "sequence_results = sequence.pad_sequences(sequence_results, maxlen)\n",
        "\n",
        "# convert to matrix\n",
        "sequence_results = np.asmatrix(sequence_results)\n",
        "print(sequence_results.shape)\n",
        "\n",
        "# split test and train set\n",
        "x_train, x_test, y_train, y_test = train_test_split(sequence_results, label_list, test_size=0.10, random_state=30)\n",
        "\n",
        "# define class_weights\n",
        "class_weights = class_weight.compute_class_weight('balanced',\n",
        "                                                 np.unique(y_train),\n",
        "                                                 y_train)"
      ],
      "execution_count": 0,
      "outputs": [
        {
          "output_type": "stream",
          "text": [
            "67354\n",
            "66057\n",
            "1297\n",
            "67354\n",
            "(67354, 86)\n"
          ],
          "name": "stdout"
        }
      ]
    },
    {
      "metadata": {
        "id": "aY_-n_OJ13tK",
        "colab_type": "code",
        "colab": {}
      },
      "cell_type": "code",
      "source": [
        "rnn_model = Sequential()\n",
        "rnn_model.add(Embedding(input_dim=100,\n",
        "                      output_dim=32,\n",
        "                      input_length=maxlen))\n",
        "rnn_model.add(Dropout(0.3))\n",
        "rnn_model.add(LSTM(32, input_shape=(maxlen, 100)))\n",
        "rnn_model.add(Dense(250,activation = \"relu\"))\n",
        "rnn_model.add(Dropout(0.3))\n",
        "rnn_model.add(Dense(1, activation='sigmoid'))"
      ],
      "execution_count": 0,
      "outputs": []
    },
    {
      "metadata": {
        "id": "JNThBxRT38cU",
        "colab_type": "code",
        "outputId": "bbf220fe-b20f-4a80-ae70-1e00a509f733",
        "colab": {
          "base_uri": "https://localhost:8080/",
          "height": 340
        }
      },
      "cell_type": "code",
      "source": [
        "rnn_model.compile(optimizer=\"rmsprop\", loss=\"binary_crossentropy\", metrics=[\"acc\"])\n",
        "rnn_model.summary()\n"
      ],
      "execution_count": 0,
      "outputs": [
        {
          "output_type": "stream",
          "text": [
            "_________________________________________________________________\n",
            "Layer (type)                 Output Shape              Param #   \n",
            "=================================================================\n",
            "embedding_2 (Embedding)      (None, 86, 32)            3200      \n",
            "_________________________________________________________________\n",
            "dropout_3 (Dropout)          (None, 86, 32)            0         \n",
            "_________________________________________________________________\n",
            "lstm_1 (LSTM)                (None, 32)                8320      \n",
            "_________________________________________________________________\n",
            "dense_3 (Dense)              (None, 250)               8250      \n",
            "_________________________________________________________________\n",
            "dropout_4 (Dropout)          (None, 250)               0         \n",
            "_________________________________________________________________\n",
            "dense_4 (Dense)              (None, 1)                 251       \n",
            "=================================================================\n",
            "Total params: 20,021\n",
            "Trainable params: 20,021\n",
            "Non-trainable params: 0\n",
            "_________________________________________________________________\n"
          ],
          "name": "stdout"
        }
      ]
    },
    {
      "metadata": {
        "id": "j8d0xYZJ4NtK",
        "colab_type": "code",
        "outputId": "7265a2e8-c54a-4e13-d21b-371f29fe8fa4",
        "colab": {
          "base_uri": "https://localhost:8080/",
          "height": 374
        }
      },
      "cell_type": "code",
      "source": [
        "rnn_model_result = rnn_model.fit(x_train, y_train,\n",
        "            batch_size=128,\n",
        "            epochs=10,\n",
        "            validation_data=(x_test, y_test),\n",
        "            class_weight=class_weights)"
      ],
      "execution_count": 0,
      "outputs": [
        {
          "output_type": "stream",
          "text": [
            "Train on 60618 samples, validate on 6736 samples\n",
            "Epoch 1/10\n",
            "60618/60618 [==============================] - 112s 2ms/step - loss: 0.0703 - acc: 0.9800 - val_loss: 0.0428 - val_acc: 0.9822\n",
            "Epoch 2/10\n",
            "60618/60618 [==============================] - 109s 2ms/step - loss: 0.0363 - acc: 0.9831 - val_loss: 0.0313 - val_acc: 0.9862\n",
            "Epoch 3/10\n",
            "60618/60618 [==============================] - 111s 2ms/step - loss: 0.0308 - acc: 0.9851 - val_loss: 0.0287 - val_acc: 0.9865\n",
            "Epoch 4/10\n",
            "60618/60618 [==============================] - 111s 2ms/step - loss: 0.0286 - acc: 0.9857 - val_loss: 0.0281 - val_acc: 0.9866\n",
            "Epoch 5/10\n",
            "60618/60618 [==============================] - 109s 2ms/step - loss: 0.0278 - acc: 0.9866 - val_loss: 0.0269 - val_acc: 0.9878\n",
            "Epoch 6/10\n",
            "60618/60618 [==============================] - 109s 2ms/step - loss: 0.0266 - acc: 0.9875 - val_loss: 0.0258 - val_acc: 0.9877\n",
            "Epoch 7/10\n",
            "60618/60618 [==============================] - 110s 2ms/step - loss: 0.0265 - acc: 0.9875 - val_loss: 0.0249 - val_acc: 0.9890\n",
            "Epoch 8/10\n",
            "60618/60618 [==============================] - 110s 2ms/step - loss: 0.0255 - acc: 0.9879 - val_loss: 0.0249 - val_acc: 0.9874\n",
            "Epoch 9/10\n",
            "60618/60618 [==============================] - 112s 2ms/step - loss: 0.0253 - acc: 0.9879 - val_loss: 0.0239 - val_acc: 0.9889\n",
            "Epoch 10/10\n",
            "60618/60618 [==============================] - 112s 2ms/step - loss: 0.0245 - acc: 0.9884 - val_loss: 0.0248 - val_acc: 0.9901\n"
          ],
          "name": "stdout"
        }
      ]
    },
    {
      "metadata": {
        "id": "quCykeunADzL",
        "colab_type": "code",
        "outputId": "9d14bdec-ff8c-46ca-857d-24c50d6a4029",
        "colab": {
          "base_uri": "https://localhost:8080/",
          "height": 51
        }
      },
      "cell_type": "code",
      "source": [
        "print(rnn_model.evaluate(x_test, y_test))"
      ],
      "execution_count": 0,
      "outputs": [
        {
          "output_type": "stream",
          "text": [
            "6736/6736 [==============================] - 18s 3ms/step\n",
            "[0.02479214234768526, 0.9900534441805225]\n"
          ],
          "name": "stdout"
        }
      ]
    },
    {
      "metadata": {
        "id": "bioodXfCANJS",
        "colab_type": "code",
        "outputId": "cd8cb927-3dc1-43b8-dba7-0f9738c232b1",
        "colab": {
          "base_uri": "https://localhost:8080/",
          "height": 51
        }
      },
      "cell_type": "code",
      "source": [
        "y_test_preds_rnn = rnn_model.predict(x_test, batch_size=128)\n",
        "y_test_preds_class_rnn = y_test_preds_rnn > 0.5\n",
        "\n",
        "from sklearn.metrics import confusion_matrix\n",
        "confusion_matrix(y_test,y_test_preds_class_rnn)"
      ],
      "execution_count": 0,
      "outputs": [
        {
          "output_type": "execute_result",
          "data": {
            "text/plain": [
              "array([[6556,   49],\n",
              "       [  18,  113]])"
            ]
          },
          "metadata": {
            "tags": []
          },
          "execution_count": 19
        }
      ]
    },
    {
      "metadata": {
        "id": "AqnTawTHPktu",
        "colab_type": "text"
      },
      "cell_type": "markdown",
      "source": [
        "From the above result, we can see that the RNN (LSTM) achieved a 99% accuracy and a 0.024 loss on test set. The performance is decent, the reason might be the imbalance of the data so I also checked the confusion matrix which also shows a good performance. "
      ]
    },
    {
      "metadata": {
        "id": "ICkkaMsq1U-k",
        "colab_type": "text"
      },
      "cell_type": "markdown",
      "source": [
        "## 3.2 CNN\n",
        "\n",
        "Build and train a 1D CNN for this text classification task. You might gain some\n",
        "insight and inspiration from these text classification approaches:\n",
        "\n",
        "\u000f http://www.aclweb.org/anthology/D14-1181\n",
        "\n",
        "\u000f https://arxiv.org/abs/1702.08568"
      ]
    },
    {
      "metadata": {
        "id": "t424PUAnzYUS",
        "colab_type": "text"
      },
      "cell_type": "markdown",
      "source": [
        "### Data Prep"
      ]
    },
    {
      "metadata": {
        "id": "OnzC0SK-zVsV",
        "colab_type": "code",
        "outputId": "53b808d3-d353-41b3-e1af-9438435527c6",
        "colab": {
          "base_uri": "https://localhost:8080/",
          "height": 102
        }
      },
      "cell_type": "code",
      "source": [
        "benign_url = requests.get(\"https://s3.amazonaws.com/anly-590/url-classification/benign-urls.txt\").text\n",
        "malicious_url = requests.get(\"https://s3.amazonaws.com/anly-590/url-classification/malicious-urls.txt\").text\n",
        "\n",
        "all_url = benign_url+'\\n'+malicious_url\n",
        "url_list = list(all_url.split(\"\\n\"))\n",
        "ben_list = list(benign_url.split(\"\\n\"))\n",
        "mal_list = list(malicious_url.split(\"\\n\"))\n",
        "print(len(url_list))\n",
        "print(len(ben_list))\n",
        "print(len(mal_list))\n",
        "# seperate class, 0 for ben, 1 for mal\n",
        "label_list = [0]*len(ben_list)+[1]*len(mal_list)\n",
        "print(len(label_list))\n",
        "\n",
        "# encode urls as sequences of numbers\n",
        "tokenizer = Tokenizer(char_level=True)\n",
        "tokenizer.fit_on_texts(url_list)\n",
        "sequence_results = tokenizer.texts_to_sequences(url_list)\n",
        "\n",
        "# pad sequence\n",
        "maxlen = max(len(x) for x in sequence_results)\n",
        "sequence_results = sequence.pad_sequences(sequence_results, maxlen)\n",
        "\n",
        "# convert to matrix\n",
        "sequence_results = np.asmatrix(sequence_results)\n",
        "print(sequence_results.shape)\n",
        "\n",
        "# split test and train set\n",
        "x_train, x_test, y_train, y_test = train_test_split(sequence_results, label_list, test_size=0.10, random_state=30)\n",
        "\n",
        "# classes are very imbalanced, so define variable class_weights that can be passed during training\n",
        "from sklearn.utils import class_weight\n",
        "class_weights = class_weight.compute_class_weight('balanced',\n",
        "                                                 np.unique(y_train),\n",
        "                                                 y_train)"
      ],
      "execution_count": 0,
      "outputs": [
        {
          "output_type": "stream",
          "text": [
            "67354\n",
            "66057\n",
            "1297\n",
            "67354\n",
            "(67354, 86)\n"
          ],
          "name": "stdout"
        }
      ]
    },
    {
      "metadata": {
        "id": "JUqRpjMuu0HD",
        "colab_type": "code",
        "colab": {}
      },
      "cell_type": "code",
      "source": [
        "# define model\n",
        "cnn_model = Sequential()\n",
        "\n",
        "# add embedding layer\n",
        "cnn_model.add(Embedding(input_dim=100,\n",
        "                      output_dim=32,\n",
        "                      input_length=maxlen))\n",
        "\n",
        "cnn_model.add(Dropout(0.2))\n",
        "\n",
        "# add 1D Convolutional layer\n",
        "cnn_model.add(Conv1D(filters=128,\n",
        "                 kernel_size=3,\n",
        "                 padding='valid',\n",
        "                 activation='relu',\n",
        "                 strides=1))\n",
        "cnn_model.add(GlobalMaxPooling1D())\n",
        "\n",
        "# dense layer \n",
        "cnn_model.add(Dense(250, activation='relu'))\n",
        "cnn_model.add(Dropout(0.2))\n",
        "\n",
        "# then project onto a single unit output layer, and squash it with a sigmoid\n",
        "cnn_model.add(Dense(1, activation=\"sigmoid\"))"
      ],
      "execution_count": 0,
      "outputs": []
    },
    {
      "metadata": {
        "id": "UEMCkIPJBNYs",
        "colab_type": "code",
        "outputId": "d384fc59-f973-49df-bc98-21d22cc66314",
        "colab": {
          "base_uri": "https://localhost:8080/",
          "height": 374
        }
      },
      "cell_type": "code",
      "source": [
        "cnn_model.compile(loss='binary_crossentropy', optimizer='adam', metrics=['accuracy'])\n",
        "cnn_model.summary()"
      ],
      "execution_count": 0,
      "outputs": [
        {
          "output_type": "stream",
          "text": [
            "_________________________________________________________________\n",
            "Layer (type)                 Output Shape              Param #   \n",
            "=================================================================\n",
            "embedding_1 (Embedding)      (None, 86, 32)            3200      \n",
            "_________________________________________________________________\n",
            "dropout_1 (Dropout)          (None, 86, 32)            0         \n",
            "_________________________________________________________________\n",
            "conv1d_1 (Conv1D)            (None, 84, 128)           12416     \n",
            "_________________________________________________________________\n",
            "global_max_pooling1d_1 (Glob (None, 128)               0         \n",
            "_________________________________________________________________\n",
            "dense_1 (Dense)              (None, 250)               32250     \n",
            "_________________________________________________________________\n",
            "dropout_2 (Dropout)          (None, 250)               0         \n",
            "_________________________________________________________________\n",
            "dense_2 (Dense)              (None, 1)                 251       \n",
            "=================================================================\n",
            "Total params: 48,117\n",
            "Trainable params: 48,117\n",
            "Non-trainable params: 0\n",
            "_________________________________________________________________\n"
          ],
          "name": "stdout"
        }
      ]
    },
    {
      "metadata": {
        "id": "4I1s7TYUBWRW",
        "colab_type": "code",
        "outputId": "4d4596bf-cad3-486b-e9b6-72c12b63c024",
        "colab": {
          "base_uri": "https://localhost:8080/",
          "height": 221
        }
      },
      "cell_type": "code",
      "source": [
        "cnn_model.fit(x_train, y_train,\n",
        "            batch_size=64,\n",
        "            epochs=5,\n",
        "            validation_data=(x_test, y_test),\n",
        "            class_weight=class_weights)"
      ],
      "execution_count": 0,
      "outputs": [
        {
          "output_type": "stream",
          "text": [
            "Train on 60618 samples, validate on 6736 samples\n",
            "Epoch 1/5\n",
            "60618/60618 [==============================] - 12s 203us/step - loss: 0.0627 - acc: 0.9816 - val_loss: 0.0304 - val_acc: 0.9877\n",
            "Epoch 2/5\n",
            "60618/60618 [==============================] - 8s 133us/step - loss: 0.0290 - acc: 0.9871 - val_loss: 0.0242 - val_acc: 0.9889\n",
            "Epoch 3/5\n",
            "60618/60618 [==============================] - 8s 132us/step - loss: 0.0242 - acc: 0.9892 - val_loss: 0.0249 - val_acc: 0.9881\n",
            "Epoch 4/5\n",
            "60618/60618 [==============================] - 8s 132us/step - loss: 0.0217 - acc: 0.9905 - val_loss: 0.0307 - val_acc: 0.9863\n",
            "Epoch 5/5\n",
            "60618/60618 [==============================] - 8s 134us/step - loss: 0.0191 - acc: 0.9914 - val_loss: 0.0188 - val_acc: 0.9902\n"
          ],
          "name": "stdout"
        },
        {
          "output_type": "execute_result",
          "data": {
            "text/plain": [
              "<keras.callbacks.History at 0x7f6a36d86278>"
            ]
          },
          "metadata": {
            "tags": []
          },
          "execution_count": 8
        }
      ]
    },
    {
      "metadata": {
        "id": "xUyEbp1_Bml4",
        "colab_type": "code",
        "outputId": "a2fa8923-80b2-4366-9661-32757fd525fb",
        "colab": {
          "base_uri": "https://localhost:8080/",
          "height": 51
        }
      },
      "cell_type": "code",
      "source": [
        "print(cnn_model.evaluate(x_test, y_test))"
      ],
      "execution_count": 0,
      "outputs": [
        {
          "output_type": "stream",
          "text": [
            "6736/6736 [==============================] - 0s 64us/step\n",
            "[0.01876810448435843, 0.9902019002375297]\n"
          ],
          "name": "stdout"
        }
      ]
    },
    {
      "metadata": {
        "id": "Ko6qTe-bBpCt",
        "colab_type": "code",
        "outputId": "fc12d359-634e-4254-c4ac-0bbd990ddfef",
        "colab": {
          "base_uri": "https://localhost:8080/",
          "height": 51
        }
      },
      "cell_type": "code",
      "source": [
        "# check confusion matrix\n",
        "y_test_preds_cnn       = cnn_model.predict(x_test, batch_size=64)\n",
        "y_test_preds_class_cnn   = y_test_preds_cnn > 0.5\n",
        "\n",
        "confusion_matrix(y_test,y_test_preds_class_cnn)"
      ],
      "execution_count": 0,
      "outputs": [
        {
          "output_type": "execute_result",
          "data": {
            "text/plain": [
              "array([[6573,   32],\n",
              "       [  34,   97]])"
            ]
          },
          "metadata": {
            "tags": []
          },
          "execution_count": 21
        }
      ]
    },
    {
      "metadata": {
        "id": "HC50ntNHRGll",
        "colab_type": "text"
      },
      "cell_type": "markdown",
      "source": [
        "For the CNN model, the accuracy and loss on the test set is around 99% and 0.018. Which is also a decent performance. The reason still might be the imbalance of the data."
      ]
    },
    {
      "metadata": {
        "id": "ibd-ef8I1mKx",
        "colab_type": "text"
      },
      "cell_type": "markdown",
      "source": [
        "## 3.3\n",
        "\n",
        "Be sure to directly compare your two methods with an ROC curve or similar\n",
        "validation method. Don't forget to create a train-test split."
      ]
    },
    {
      "metadata": {
        "id": "NvahUmz2B-n-",
        "colab_type": "code",
        "outputId": "44a61549-8714-4690-a6db-c832274df7ab",
        "colab": {
          "base_uri": "https://localhost:8080/",
          "height": 294
        }
      },
      "cell_type": "code",
      "source": [
        "from sklearn.metrics import roc_curve\n",
        "from sklearn.metrics import auc\n",
        "\n",
        "rnn_fp, rnn_tp, rnn_thresholds = roc_curve(y_test, y_test_preds_rnn)\n",
        "cnn_fp, cnn_tp, cnn_thresholds = roc_curve(y_test, y_test_preds_cnn)\n",
        "plt.plot(rnn_fp, rnn_tp, label='RNN (area = {:.3f})'.format(auc(rnn_fp, rnn_tp)))\n",
        "plt.plot(cnn_fp, cnn_tp, label='CNN (area = {:.3f})'.format(auc(cnn_fp, cnn_tp)))\n",
        "plt.xlabel('False Positive Rate')\n",
        "plt.ylabel('True Positive Rate')\n",
        "plt.title('ROC curve')\n",
        "plt.legend(loc='best')\n",
        "plt.show()"
      ],
      "execution_count": 0,
      "outputs": [
        {
          "output_type": "display_data",
          "data": {
            "image/png": "[encoded data removed]",
            "text/plain": [
              "<matplotlib.figure.Figure at 0x7f69df5bd5c0>"
            ]
          },
          "metadata": {
            "tags": []
          }
        }
      ]
    },
    {
      "metadata": {
        "id": "7UQ6qrz7SDNc",
        "colab_type": "text"
      },
      "cell_type": "markdown",
      "source": [
        "From the above plot, we can see that both RNN and CNN models got a very decent performance. The auc score for RNN is 0.994 and 0.997 for CNN. The CNN model got a slightly better performance than RNN. Since the data is imablanced, we want to test a result on a more balanced data."
      ]
    }
  ]
}